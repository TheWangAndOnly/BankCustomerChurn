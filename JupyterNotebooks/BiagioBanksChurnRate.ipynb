{
 "cells": [
  {
   "cell_type": "code",
   "execution_count": 4,
   "id": "3724caa5",
   "metadata": {},
   "outputs": [],
   "source": [
    "%load_ext autoreload\n",
    "%autoreload 2"
   ]
  },
  {
   "cell_type": "markdown",
   "id": "b1f4690b",
   "metadata": {},
   "source": [
    "## Import Modules"
   ]
  },
  {
   "cell_type": "code",
   "execution_count": 5,
   "id": "f3bb9d15",
   "metadata": {},
   "outputs": [],
   "source": [
    "import numpy as np\n",
    "import pandas as pd\n",
    "import matplotlib.pyplot as plt \n",
    "import seaborn as sns\n",
    "import os\n",
    "\n",
    "from matplotlib.gridspec import GridSpec\n",
    "\n",
    "from sklearn.preprocessing import OneHotEncoder, LabelEncoder, RobustScaler\n",
    "from sklearn.model_selection import train_test_split\n",
    "from sklearn.linear_model import LogisticRegression\n",
    "from sklearn.metrics import accuracy_score\n",
    "from sklearn.model_selection import GridSearchCV, RandomizedSearchCV\n",
    "from sklearn.svm import SVC\n",
    "from sklearn.neighbors import KNeighborsClassifier\n",
    "from sklearn.ensemble import AdaBoostClassifier\n",
    "from sklearn.tree import DecisionTreeClassifier"
   ]
  },
  {
   "cell_type": "code",
   "execution_count": 6,
   "id": "cb75a691",
   "metadata": {},
   "outputs": [
    {
     "data": {
      "text/plain": [
       "'/home/biagio/code/BiaPri/my_projects/Challenges_Projects/Capco/Churn_Modelling/notebook'"
      ]
     },
     "execution_count": 6,
     "metadata": {},
     "output_type": "execute_result"
    }
   ],
   "source": [
    "pwd"
   ]
  },
  {
   "cell_type": "code",
   "execution_count": 7,
   "id": "c9962093",
   "metadata": {},
   "outputs": [],
   "source": [
    "path = '/home/biagio/code/BiaPri/my_projects/Challenges_Projects/Capco/Churn_Modelling/data/Churn_Modeling.csv'"
   ]
  },
  {
   "cell_type": "code",
   "execution_count": 8,
   "id": "73cd09c8",
   "metadata": {},
   "outputs": [
    {
     "data": {
      "text/plain": [
       "'../data'"
      ]
     },
     "execution_count": 8,
     "metadata": {},
     "output_type": "execute_result"
    }
   ],
   "source": [
    "csv_path = os.path.join('..','data')\n",
    "csv_path"
   ]
  },
  {
   "cell_type": "code",
   "execution_count": 9,
   "id": "10975afb",
   "metadata": {
    "scrolled": false
   },
   "outputs": [
    {
     "data": {
      "text/html": [
       "<div>\n",
       "<style scoped>\n",
       "    .dataframe tbody tr th:only-of-type {\n",
       "        vertical-align: middle;\n",
       "    }\n",
       "\n",
       "    .dataframe tbody tr th {\n",
       "        vertical-align: top;\n",
       "    }\n",
       "\n",
       "    .dataframe thead th {\n",
       "        text-align: right;\n",
       "    }\n",
       "</style>\n",
       "<table border=\"1\" class=\"dataframe\">\n",
       "  <thead>\n",
       "    <tr style=\"text-align: right;\">\n",
       "      <th></th>\n",
       "      <th>CustomerId</th>\n",
       "      <th>CreditScore</th>\n",
       "      <th>Geography</th>\n",
       "      <th>Gender</th>\n",
       "      <th>Age</th>\n",
       "      <th>Tenure</th>\n",
       "      <th>Balance</th>\n",
       "      <th>NumOfProducts</th>\n",
       "      <th>HasCrCard</th>\n",
       "      <th>IsActiveMember</th>\n",
       "      <th>EstimatedSalary</th>\n",
       "      <th>Exited</th>\n",
       "    </tr>\n",
       "  </thead>\n",
       "  <tbody>\n",
       "    <tr>\n",
       "      <th>0</th>\n",
       "      <td>15634602</td>\n",
       "      <td>619</td>\n",
       "      <td>France</td>\n",
       "      <td>Female</td>\n",
       "      <td>42</td>\n",
       "      <td>2</td>\n",
       "      <td>0.00</td>\n",
       "      <td>1</td>\n",
       "      <td>1</td>\n",
       "      <td>1</td>\n",
       "      <td>101348.88</td>\n",
       "      <td>1</td>\n",
       "    </tr>\n",
       "    <tr>\n",
       "      <th>1</th>\n",
       "      <td>15647311</td>\n",
       "      <td>608</td>\n",
       "      <td>Spain</td>\n",
       "      <td>Female</td>\n",
       "      <td>41</td>\n",
       "      <td>1</td>\n",
       "      <td>83807.86</td>\n",
       "      <td>1</td>\n",
       "      <td>0</td>\n",
       "      <td>1</td>\n",
       "      <td>112542.58</td>\n",
       "      <td>0</td>\n",
       "    </tr>\n",
       "    <tr>\n",
       "      <th>2</th>\n",
       "      <td>15619304</td>\n",
       "      <td>502</td>\n",
       "      <td>France</td>\n",
       "      <td>Female</td>\n",
       "      <td>42</td>\n",
       "      <td>8</td>\n",
       "      <td>159660.80</td>\n",
       "      <td>3</td>\n",
       "      <td>1</td>\n",
       "      <td>0</td>\n",
       "      <td>113931.57</td>\n",
       "      <td>1</td>\n",
       "    </tr>\n",
       "    <tr>\n",
       "      <th>3</th>\n",
       "      <td>15701354</td>\n",
       "      <td>699</td>\n",
       "      <td>France</td>\n",
       "      <td>Female</td>\n",
       "      <td>39</td>\n",
       "      <td>1</td>\n",
       "      <td>0.00</td>\n",
       "      <td>2</td>\n",
       "      <td>0</td>\n",
       "      <td>0</td>\n",
       "      <td>93826.63</td>\n",
       "      <td>0</td>\n",
       "    </tr>\n",
       "    <tr>\n",
       "      <th>4</th>\n",
       "      <td>15737888</td>\n",
       "      <td>850</td>\n",
       "      <td>Spain</td>\n",
       "      <td>Female</td>\n",
       "      <td>43</td>\n",
       "      <td>2</td>\n",
       "      <td>125510.82</td>\n",
       "      <td>1</td>\n",
       "      <td>1</td>\n",
       "      <td>1</td>\n",
       "      <td>79084.10</td>\n",
       "      <td>0</td>\n",
       "    </tr>\n",
       "  </tbody>\n",
       "</table>\n",
       "</div>"
      ],
      "text/plain": [
       "   CustomerId  CreditScore Geography  Gender  Age  Tenure    Balance  \\\n",
       "0    15634602          619    France  Female   42       2       0.00   \n",
       "1    15647311          608     Spain  Female   41       1   83807.86   \n",
       "2    15619304          502    France  Female   42       8  159660.80   \n",
       "3    15701354          699    France  Female   39       1       0.00   \n",
       "4    15737888          850     Spain  Female   43       2  125510.82   \n",
       "\n",
       "   NumOfProducts  HasCrCard  IsActiveMember  EstimatedSalary  Exited  \n",
       "0              1          1               1        101348.88       1  \n",
       "1              1          0               1        112542.58       0  \n",
       "2              3          1               0        113931.57       1  \n",
       "3              2          0               0         93826.63       0  \n",
       "4              1          1               1         79084.10       0  "
      ]
     },
     "execution_count": 9,
     "metadata": {},
     "output_type": "execute_result"
    }
   ],
   "source": [
    "df = pd.read_csv(os.path.join(csv_path,'Churn_Modeling.csv')).drop(columns=['RowNumber','Surname'])\n",
    "df.head()"
   ]
  },
  {
   "cell_type": "code",
   "execution_count": 10,
   "id": "4f33abd5",
   "metadata": {},
   "outputs": [
    {
     "data": {
      "text/plain": [
       "CustomerId           int64\n",
       "CreditScore          int64\n",
       "Geography           object\n",
       "Gender              object\n",
       "Age                  int64\n",
       "Tenure               int64\n",
       "Balance            float64\n",
       "NumOfProducts        int64\n",
       "HasCrCard            int64\n",
       "IsActiveMember       int64\n",
       "EstimatedSalary    float64\n",
       "Exited               int64\n",
       "dtype: object"
      ]
     },
     "execution_count": 10,
     "metadata": {},
     "output_type": "execute_result"
    }
   ],
   "source": [
    "df.dtypes"
   ]
  },
  {
   "cell_type": "code",
   "execution_count": 11,
   "id": "91b2b76d",
   "metadata": {},
   "outputs": [
    {
     "data": {
      "text/plain": [
       "CustomerId           int64\n",
       "CreditScore          int64\n",
       "Geography           object\n",
       "Gender              object\n",
       "Age                  int64\n",
       "Tenure               int64\n",
       "Balance            float64\n",
       "NumOfProducts        int64\n",
       "HasCrCard            int64\n",
       "IsActiveMember       int64\n",
       "EstimatedSalary    float64\n",
       "Exited               int64\n",
       "dtype: object"
      ]
     },
     "execution_count": 11,
     "metadata": {},
     "output_type": "execute_result"
    }
   ],
   "source": [
    "df['CustomerId']=pd.to_numeric(df['CustomerId'])\n",
    "df.dtypes"
   ]
  },
  {
   "cell_type": "code",
   "execution_count": 12,
   "id": "8fc6c0bf",
   "metadata": {},
   "outputs": [
    {
     "data": {
      "image/png": "[encoded data removed]",
      "text/plain": [
       "<Figure size 864x576 with 1 Axes>"
      ]
     },
     "metadata": {
      "needs_background": "light"
     },
     "output_type": "display_data"
    }
   ],
   "source": [
    "exited = df[df['Exited']==1]\n",
    "\n",
    "plt.figure(figsize=(12,8))\n",
    "plt.title('Client Churn per Age')\n",
    "sns.histplot(x='Age', data=exited)\n",
    "\n",
    "plt.show()"
   ]
  },
  {
   "cell_type": "markdown",
   "id": "e5820dfb",
   "metadata": {},
   "source": [
    "## __Data Processing__"
   ]
  },
  {
   "cell_type": "markdown",
   "id": "f1de683c",
   "metadata": {},
   "source": [
    "### __Creating Age Bins__"
   ]
  },
  {
   "cell_type": "code",
   "execution_count": 13,
   "id": "11a30bae",
   "metadata": {},
   "outputs": [],
   "source": [
    "def age_transformer(X):\n",
    "    # 18-30\n",
    "    if X>18 and X<=30:\n",
    "        return '18-30'\n",
    "    \n",
    "    # 30-40\n",
    "    elif X>30 and X<=40:\n",
    "        return '30-40'\n",
    "    \n",
    "    # 40-50\n",
    "    elif X>40 and X<=50:\n",
    "        return '40-50'\n",
    "    \n",
    "    # 50-65\n",
    "    elif X>50 and X<=60:\n",
    "        return '50-65'\n",
    "        \n",
    "    else:\n",
    "        return '65>'\n",
    "    \n",
    "df['Age'] = df['Age'].apply(age_transformer)"
   ]
  },
  {
   "cell_type": "code",
   "execution_count": 14,
   "id": "1b0aa3dd",
   "metadata": {
    "scrolled": false
   },
   "outputs": [
    {
     "data": {
      "image/png": "[encoded data removed]",
      "text/plain": [
       "<Figure size 864x720 with 3 Axes>"
      ]
     },
     "metadata": {
      "needs_background": "light"
     },
     "output_type": "display_data"
    }
   ],
   "source": [
    "exited = df[df['Exited']==1]\n",
    "\n",
    "fig = plt.figure(figsize=(12,10))\n",
    "spec2 = GridSpec(ncols=2, nrows=2, figure=fig)\n",
    "ax1 = fig.add_subplot(spec2[0, 0:])\n",
    "ax2 = fig.add_subplot(spec2[1, 0])\n",
    "ax3 = fig.add_subplot(spec2[1, 1])\n",
    "\n",
    "\n",
    "ax1.set_title('Client Churn per Age', size=16)\n",
    "sns.countplot(x='Age', order=['18-30','30-40','40-50','50-65','65>'], data=exited, ax=ax1)\n",
    "ax1.set_ylabel('Num of Exited Clients')\n",
    "\n",
    "ax2.set_title('Client Churn per Country', size=13)\n",
    "sns.countplot(x='Geography', hue='Age', hue_order=['18-30','30-40','40-50','50-65','65>'], data=exited, ax=ax2)\n",
    "ax2.set_ylabel('Num of Exited Clients')\n",
    "\n",
    "ax3.set_title('Client Churn per Gender', size=13)\n",
    "sns.countplot(x='Gender', hue='Age', hue_order=['18-30','30-40','40-50','50-65','65>'], data=exited, ax=ax3)\n",
    "ax3.set_ylabel('Num of Exited Clients')\n",
    "\n",
    "\n",
    "plt.show()"
   ]
  },
  {
   "cell_type": "markdown",
   "id": "bd55f743",
   "metadata": {},
   "source": [
    "### __Category Age__"
   ]
  },
  {
   "cell_type": "code",
   "execution_count": 15,
   "id": "2196529c",
   "metadata": {},
   "outputs": [],
   "source": [
    "ohe = OneHotEncoder(sparse=False)\n",
    "df[['18-30','30-40','40-50','50-65','65>']]  = ohe.fit_transform(df[['Age']])\n",
    "df.drop(columns='Age', inplace=True)"
   ]
  },
  {
   "cell_type": "markdown",
   "id": "3f791840",
   "metadata": {},
   "source": [
    "### __Category Geo__"
   ]
  },
  {
   "cell_type": "code",
   "execution_count": 16,
   "id": "06aaa834",
   "metadata": {},
   "outputs": [],
   "source": [
    "ohe = OneHotEncoder(sparse=False)\n",
    "df[['France','Germany','Spain']]  = ohe.fit_transform(df[['Geography']])\n",
    "df.drop(columns='Geography', inplace=True)"
   ]
  },
  {
   "cell_type": "markdown",
   "id": "38259113",
   "metadata": {},
   "source": [
    "### __Category Gender__"
   ]
  },
  {
   "cell_type": "code",
   "execution_count": 17,
   "id": "051c8024",
   "metadata": {},
   "outputs": [],
   "source": [
    "ohe = OneHotEncoder(sparse=False)\n",
    "df[['Female','Male']]  = ohe.fit_transform(df[['Gender']])\n",
    "df.drop(columns='Gender', inplace=True)"
   ]
  },
  {
   "cell_type": "markdown",
   "id": "ec4cec15",
   "metadata": {},
   "source": [
    "### Category CustomerId = Time related!"
   ]
  },
  {
   "cell_type": "code",
   "execution_count": 22,
   "id": "0f5ecc93",
   "metadata": {},
   "outputs": [],
   "source": [
    "lower = np.mean(df['CustomerId'])+1.5*np.std(df['CustomerId'])\n",
    "\n",
    "def id_transformer(X, lower):\n",
    "\n",
    "    # Old\n",
    "    if X<lower:\n",
    "        return 'Old Client'\n",
    "    \n",
    "    # New\n",
    "    else:\n",
    "        return 'New Client'\n",
    "\n",
    "df['CustomerId'] = df['CustomerId'].apply(lambda x: id_transformer(x, lower))"
   ]
  },
  {
   "cell_type": "code",
   "execution_count": 23,
   "id": "087cc5ec",
   "metadata": {},
   "outputs": [],
   "source": [
    "ohe = OneHotEncoder(sparse=False)\n",
    "df[['New Client', 'Old Client']]  = ohe.fit_transform(df[['CustomerId']])\n",
    "df.drop(columns='CustomerId', inplace=True)"
   ]
  },
  {
   "cell_type": "code",
   "execution_count": 24,
   "id": "f6e27dcb",
   "metadata": {
    "scrolled": true
   },
   "outputs": [
    {
     "data": {
      "text/html": [
       "<div>\n",
       "<style scoped>\n",
       "    .dataframe tbody tr th:only-of-type {\n",
       "        vertical-align: middle;\n",
       "    }\n",
       "\n",
       "    .dataframe tbody tr th {\n",
       "        vertical-align: top;\n",
       "    }\n",
       "\n",
       "    .dataframe thead th {\n",
       "        text-align: right;\n",
       "    }\n",
       "</style>\n",
       "<table border=\"1\" class=\"dataframe\">\n",
       "  <thead>\n",
       "    <tr style=\"text-align: right;\">\n",
       "      <th></th>\n",
       "      <th>CreditScore</th>\n",
       "      <th>Tenure</th>\n",
       "      <th>Balance</th>\n",
       "      <th>NumOfProducts</th>\n",
       "      <th>HasCrCard</th>\n",
       "      <th>IsActiveMember</th>\n",
       "      <th>EstimatedSalary</th>\n",
       "      <th>Exited</th>\n",
       "      <th>18-30</th>\n",
       "      <th>30-40</th>\n",
       "      <th>40-50</th>\n",
       "      <th>50-65</th>\n",
       "      <th>65&gt;</th>\n",
       "      <th>France</th>\n",
       "      <th>Germany</th>\n",
       "      <th>Spain</th>\n",
       "      <th>Female</th>\n",
       "      <th>Male</th>\n",
       "      <th>New Client</th>\n",
       "      <th>Old Client</th>\n",
       "    </tr>\n",
       "  </thead>\n",
       "  <tbody>\n",
       "    <tr>\n",
       "      <th>0</th>\n",
       "      <td>619</td>\n",
       "      <td>2</td>\n",
       "      <td>0.00</td>\n",
       "      <td>1</td>\n",
       "      <td>1</td>\n",
       "      <td>1</td>\n",
       "      <td>101348.88</td>\n",
       "      <td>1</td>\n",
       "      <td>0.0</td>\n",
       "      <td>0.0</td>\n",
       "      <td>1.0</td>\n",
       "      <td>0.0</td>\n",
       "      <td>0.0</td>\n",
       "      <td>1.0</td>\n",
       "      <td>0.0</td>\n",
       "      <td>0.0</td>\n",
       "      <td>1.0</td>\n",
       "      <td>0.0</td>\n",
       "      <td>0.0</td>\n",
       "      <td>1.0</td>\n",
       "    </tr>\n",
       "    <tr>\n",
       "      <th>1</th>\n",
       "      <td>608</td>\n",
       "      <td>1</td>\n",
       "      <td>83807.86</td>\n",
       "      <td>1</td>\n",
       "      <td>0</td>\n",
       "      <td>1</td>\n",
       "      <td>112542.58</td>\n",
       "      <td>0</td>\n",
       "      <td>0.0</td>\n",
       "      <td>0.0</td>\n",
       "      <td>1.0</td>\n",
       "      <td>0.0</td>\n",
       "      <td>0.0</td>\n",
       "      <td>0.0</td>\n",
       "      <td>0.0</td>\n",
       "      <td>1.0</td>\n",
       "      <td>1.0</td>\n",
       "      <td>0.0</td>\n",
       "      <td>0.0</td>\n",
       "      <td>1.0</td>\n",
       "    </tr>\n",
       "    <tr>\n",
       "      <th>2</th>\n",
       "      <td>502</td>\n",
       "      <td>8</td>\n",
       "      <td>159660.80</td>\n",
       "      <td>3</td>\n",
       "      <td>1</td>\n",
       "      <td>0</td>\n",
       "      <td>113931.57</td>\n",
       "      <td>1</td>\n",
       "      <td>0.0</td>\n",
       "      <td>0.0</td>\n",
       "      <td>1.0</td>\n",
       "      <td>0.0</td>\n",
       "      <td>0.0</td>\n",
       "      <td>1.0</td>\n",
       "      <td>0.0</td>\n",
       "      <td>0.0</td>\n",
       "      <td>1.0</td>\n",
       "      <td>0.0</td>\n",
       "      <td>0.0</td>\n",
       "      <td>1.0</td>\n",
       "    </tr>\n",
       "    <tr>\n",
       "      <th>3</th>\n",
       "      <td>699</td>\n",
       "      <td>1</td>\n",
       "      <td>0.00</td>\n",
       "      <td>2</td>\n",
       "      <td>0</td>\n",
       "      <td>0</td>\n",
       "      <td>93826.63</td>\n",
       "      <td>0</td>\n",
       "      <td>0.0</td>\n",
       "      <td>1.0</td>\n",
       "      <td>0.0</td>\n",
       "      <td>0.0</td>\n",
       "      <td>0.0</td>\n",
       "      <td>1.0</td>\n",
       "      <td>0.0</td>\n",
       "      <td>0.0</td>\n",
       "      <td>1.0</td>\n",
       "      <td>0.0</td>\n",
       "      <td>0.0</td>\n",
       "      <td>1.0</td>\n",
       "    </tr>\n",
       "    <tr>\n",
       "      <th>4</th>\n",
       "      <td>850</td>\n",
       "      <td>2</td>\n",
       "      <td>125510.82</td>\n",
       "      <td>1</td>\n",
       "      <td>1</td>\n",
       "      <td>1</td>\n",
       "      <td>79084.10</td>\n",
       "      <td>0</td>\n",
       "      <td>0.0</td>\n",
       "      <td>0.0</td>\n",
       "      <td>1.0</td>\n",
       "      <td>0.0</td>\n",
       "      <td>0.0</td>\n",
       "      <td>0.0</td>\n",
       "      <td>0.0</td>\n",
       "      <td>1.0</td>\n",
       "      <td>1.0</td>\n",
       "      <td>0.0</td>\n",
       "      <td>0.0</td>\n",
       "      <td>1.0</td>\n",
       "    </tr>\n",
       "  </tbody>\n",
       "</table>\n",
       "</div>"
      ],
      "text/plain": [
       "   CreditScore  Tenure    Balance  NumOfProducts  HasCrCard  IsActiveMember  \\\n",
       "0          619       2       0.00              1          1               1   \n",
       "1          608       1   83807.86              1          0               1   \n",
       "2          502       8  159660.80              3          1               0   \n",
       "3          699       1       0.00              2          0               0   \n",
       "4          850       2  125510.82              1          1               1   \n",
       "\n",
       "   EstimatedSalary  Exited  18-30  30-40  40-50  50-65  65>  France  Germany  \\\n",
       "0        101348.88       1    0.0    0.0    1.0    0.0  0.0     1.0      0.0   \n",
       "1        112542.58       0    0.0    0.0    1.0    0.0  0.0     0.0      0.0   \n",
       "2        113931.57       1    0.0    0.0    1.0    0.0  0.0     1.0      0.0   \n",
       "3         93826.63       0    0.0    1.0    0.0    0.0  0.0     1.0      0.0   \n",
       "4         79084.10       0    0.0    0.0    1.0    0.0  0.0     0.0      0.0   \n",
       "\n",
       "   Spain  Female  Male  New Client  Old Client  \n",
       "0    0.0     1.0   0.0         0.0         1.0  \n",
       "1    1.0     1.0   0.0         0.0         1.0  \n",
       "2    0.0     1.0   0.0         0.0         1.0  \n",
       "3    0.0     1.0   0.0         0.0         1.0  \n",
       "4    1.0     1.0   0.0         0.0         1.0  "
      ]
     },
     "execution_count": 24,
     "metadata": {},
     "output_type": "execute_result"
    }
   ],
   "source": [
    "df.head()"
   ]
  },
  {
   "cell_type": "markdown",
   "id": "852b2ace",
   "metadata": {},
   "source": [
    "### Churn Linear Correlations"
   ]
  },
  {
   "cell_type": "code",
   "execution_count": 25,
   "id": "85ec79fa",
   "metadata": {},
   "outputs": [],
   "source": [
    "def custom_palette(x, y, color):\n",
    "    palette = {}\n",
    "    lower = np.mean(x)-np.std(x)\n",
    "    upper = np.mean(x)+np.std(x)\n",
    "\n",
    "    for val,name in zip(x,y):\n",
    "        if val < lower:\n",
    "            palette[name] = color[0]\n",
    "        elif upper > val > lower:\n",
    "            palette[name] = color[1]\n",
    "        else:\n",
    "            palette[name] = color[2]\n",
    "    return palette"
   ]
  },
  {
   "cell_type": "code",
   "execution_count": 26,
   "id": "dd7e2bd4",
   "metadata": {
    "scrolled": false
   },
   "outputs": [
    {
     "data": {
      "image/png": "[encoded data removed]",
      "text/plain": [
       "<Figure size 1080x720 with 1 Axes>"
      ]
     },
     "metadata": {
      "needs_background": "light"
     },
     "output_type": "display_data"
    }
   ],
   "source": [
    "res = df.corr()['Exited'].drop('Exited')\n",
    "feat = list(res.keys())\n",
    "corr = res.values\n",
    "\n",
    "plt.figure(figsize=(15,10))\n",
    "plt.title('Churn Linear Correlations', size=15, fontweight=\"bold\", alpha=0.7)\n",
    "\n",
    "palette = custom_palette(corr, feat, color=['red','yellow','green'])\n",
    "ax = sns.barplot(x=feat, y=corr, palette=palette)\n",
    "\n",
    "for i, v in enumerate(corr):\n",
    "    if v > 0:\n",
    "        ax.text(i-0.25, v+0.005, str(round(v,2)), color='black', alpha=0.7)\n",
    "    else:\n",
    "        ax.text(i-0.25, v-0.015, str(round(v,2)), color='black', alpha=0.7)\n",
    "        \n",
    "plt.xlabel('Features', size=16)\n",
    "plt.ylabel('Correlation', size=15)\n",
    "plt.xticks(rotation=90, size=11)\n",
    "plt.grid(alpha=0.15)\n",
    "plt.show()"
   ]
  },
  {
   "cell_type": "code",
   "execution_count": 27,
   "id": "fe06ee6f",
   "metadata": {},
   "outputs": [],
   "source": [
    "# low_corr = res[(res<0.005)].keys()\n",
    "# df.drop(columns = low_corr, inplace=True) #Correlation less/equal than 0.005"
   ]
  },
  {
   "cell_type": "markdown",
   "id": "616fc52b",
   "metadata": {},
   "source": [
    "## Baseline Score"
   ]
  },
  {
   "cell_type": "code",
   "execution_count": 28,
   "id": "18fbec88",
   "metadata": {},
   "outputs": [
    {
     "name": "stdout",
     "output_type": "stream",
     "text": [
      "Baseline Score: 79.63 %\n"
     ]
    }
   ],
   "source": [
    "y_pred = np.zeros((len(df),))\n",
    "y_true = df['Exited']\n",
    "\n",
    "baseline = accuracy_score(y_true, y_pred)\n",
    "print(f'Baseline Score: {baseline*100} %')"
   ]
  },
  {
   "cell_type": "code",
   "execution_count": 29,
   "id": "211294e6",
   "metadata": {},
   "outputs": [],
   "source": [
    "X = df.drop(columns='Exited')\n",
    "y = df['Exited']"
   ]
  },
  {
   "cell_type": "code",
   "execution_count": 30,
   "id": "4e355ee9",
   "metadata": {},
   "outputs": [],
   "source": [
    "X_train, X_test, y_train, y_test = train_test_split(X, y, test_size=0.3, random_state=42)"
   ]
  },
  {
   "cell_type": "code",
   "execution_count": 31,
   "id": "02157319",
   "metadata": {},
   "outputs": [],
   "source": [
    "rs = RobustScaler().fit(X_train)\n",
    "X_train = rs.transform(X_train)\n",
    "X_test = rs.transform(X_test) "
   ]
  },
  {
   "cell_type": "markdown",
   "id": "7b20775f",
   "metadata": {},
   "source": [
    "## Simple Logistic"
   ]
  },
  {
   "cell_type": "code",
   "execution_count": 32,
   "id": "9d762fc5",
   "metadata": {},
   "outputs": [
    {
     "data": {
      "text/plain": [
       "LogisticRegression(C=1.0, class_weight=None, dual=False, fit_intercept=True,\n",
       "                   intercept_scaling=1, l1_ratio=None, max_iter=100,\n",
       "                   multi_class='auto', n_jobs=None, penalty='l2',\n",
       "                   random_state=None, solver='lbfgs', tol=0.0001, verbose=0,\n",
       "                   warm_start=False)"
      ]
     },
     "execution_count": 32,
     "metadata": {},
     "output_type": "execute_result"
    }
   ],
   "source": [
    "lr = LogisticRegression()\n",
    "lr.fit(X_train, y_train)"
   ]
  },
  {
   "cell_type": "code",
   "execution_count": null,
   "id": "f2bc0a0f",
   "metadata": {},
   "outputs": [],
   "source": [
    "y_pred = lr.predict(X_test)\n",
    "print(f'Score: {accuracy_score(y_test, y_pred)*100} %')"
   ]
  },
  {
   "cell_type": "markdown",
   "id": "08be137c",
   "metadata": {},
   "source": [
    "### GridSearch (No real change)"
   ]
  },
  {
   "cell_type": "code",
   "execution_count": null,
   "id": "e83a853c",
   "metadata": {},
   "outputs": [],
   "source": [
    "param_grid = {'C':[0.1,0.5,1,5,10],\n",
    "              'solver':['newton-cg', 'lbfgs']}\n",
    "grid = GridSearchCV(LogisticRegression(max_iter=100), param_grid, scoring='accuracy', cv=5)\n",
    "res = grid.fit(X_train, y_train)"
   ]
  },
  {
   "cell_type": "code",
   "execution_count": null,
   "id": "d7f5acd5",
   "metadata": {},
   "outputs": [],
   "source": [
    "best = res.best_estimator_\n",
    "best"
   ]
  },
  {
   "cell_type": "code",
   "execution_count": null,
   "id": "a0571ae4",
   "metadata": {},
   "outputs": [],
   "source": [
    "y_pred = best.predict(X_test)\n",
    "print(f'Score: {accuracy_score(y_test, y_pred)*100} %')"
   ]
  },
  {
   "cell_type": "markdown",
   "id": "0d8ca8b0",
   "metadata": {},
   "source": [
    "## SVM"
   ]
  },
  {
   "cell_type": "code",
   "execution_count": 1072,
   "id": "67573f48",
   "metadata": {},
   "outputs": [
    {
     "data": {
      "text/plain": [
       "SVC(C=1.0, break_ties=False, cache_size=200, class_weight=None, coef0=0.0,\n",
       "    decision_function_shape='ovr', degree=3, gamma='scale', kernel='rbf',\n",
       "    max_iter=-1, probability=False, random_state=None, shrinking=True,\n",
       "    tol=0.001, verbose=False)"
      ]
     },
     "execution_count": 1072,
     "metadata": {},
     "output_type": "execute_result"
    }
   ],
   "source": [
    "svm = SVC()\n",
    "svm.fit(X_train, y_train)"
   ]
  },
  {
   "cell_type": "code",
   "execution_count": 1073,
   "id": "db138132",
   "metadata": {},
   "outputs": [
    {
     "name": "stdout",
     "output_type": "stream",
     "text": [
      "Score: 86.0 %\n"
     ]
    }
   ],
   "source": [
    "y_pred = svm.predict(X_test)\n",
    "print(f'Score: {accuracy_score(y_test, y_pred)*100} %')"
   ]
  },
  {
   "cell_type": "markdown",
   "id": "f6a6858a",
   "metadata": {},
   "source": [
    "### GridSearch "
   ]
  },
  {
   "cell_type": "code",
   "execution_count": 1074,
   "id": "b8b24e9a",
   "metadata": {},
   "outputs": [
    {
     "data": {
      "text/plain": [
       "SVC(C=5, break_ties=False, cache_size=200, class_weight=None, coef0=0.0,\n",
       "    decision_function_shape='ovr', degree=3, gamma='scale', kernel='poly',\n",
       "    max_iter=-1, probability=False, random_state=None, shrinking=True,\n",
       "    tol=0.001, verbose=False)"
      ]
     },
     "execution_count": 1074,
     "metadata": {},
     "output_type": "execute_result"
    }
   ],
   "source": [
    "param_grid = {'C':[0.1, 0.5, 1, 5],\n",
    "              'kernel':['poly', 'rbf']}\n",
    "grid = GridSearchCV(SVC(), param_grid, scoring='accuracy', cv=5)\n",
    "res = grid.fit(X_train, y_train)\n",
    "\n",
    "best = res.best_estimator_\n",
    "best"
   ]
  },
  {
   "cell_type": "code",
   "execution_count": 1075,
   "id": "e6cf750b",
   "metadata": {},
   "outputs": [
    {
     "name": "stdout",
     "output_type": "stream",
     "text": [
      "Score: 86.47 %\n"
     ]
    }
   ],
   "source": [
    "y_pred = best.predict(X_test)\n",
    "print(f'Score: {round(accuracy_score(y_test, y_pred)*100,2)} %')"
   ]
  },
  {
   "cell_type": "markdown",
   "id": "f0ecb019",
   "metadata": {},
   "source": [
    "## AdaBoost"
   ]
  },
  {
   "cell_type": "code",
   "execution_count": 988,
   "id": "ddea0127",
   "metadata": {},
   "outputs": [
    {
     "data": {
      "text/plain": [
       "AdaBoostClassifier(algorithm='SAMME.R',\n",
       "                   base_estimator=DecisionTreeClassifier(ccp_alpha=0.0,\n",
       "                                                         class_weight=None,\n",
       "                                                         criterion='gini',\n",
       "                                                         max_depth=2,\n",
       "                                                         max_features=None,\n",
       "                                                         max_leaf_nodes=None,\n",
       "                                                         min_impurity_decrease=0.0,\n",
       "                                                         min_impurity_split=None,\n",
       "                                                         min_samples_leaf=1,\n",
       "                                                         min_samples_split=2,\n",
       "                                                         min_weight_fraction_leaf=0.0,\n",
       "                                                         presort='deprecated',\n",
       "                                                         random_state=None,\n",
       "                                                         splitter='best'),\n",
       "                   learning_rate=0.5, n_estimators=50, random_state=None)"
      ]
     },
     "execution_count": 988,
     "metadata": {},
     "output_type": "execute_result"
    }
   ],
   "source": [
    "ada = AdaBoostClassifier(DecisionTreeClassifier(max_depth=2), learning_rate=0.5)\n",
    "ada.fit(X_train, y_train)"
   ]
  },
  {
   "cell_type": "code",
   "execution_count": 989,
   "id": "abbb68b8",
   "metadata": {},
   "outputs": [
    {
     "name": "stdout",
     "output_type": "stream",
     "text": [
      "Score: 86 %\n"
     ]
    }
   ],
   "source": [
    "y_pred = ada.predict(X_test)\n",
    "print(f'Score: {round(accuracy_score(y_test, y_pred)*100)} %')"
   ]
  },
  {
   "cell_type": "code",
   "execution_count": 1085,
   "id": "60185ae9",
   "metadata": {},
   "outputs": [
    {
     "data": {
      "text/plain": [
       "AdaBoostClassifier(algorithm='SAMME.R',\n",
       "                   base_estimator=DecisionTreeClassifier(ccp_alpha=0.0,\n",
       "                                                         class_weight=None,\n",
       "                                                         criterion='gini',\n",
       "                                                         max_depth=2,\n",
       "                                                         max_features=None,\n",
       "                                                         max_leaf_nodes=None,\n",
       "                                                         min_impurity_decrease=0.0,\n",
       "                                                         min_impurity_split=None,\n",
       "                                                         min_samples_leaf=1,\n",
       "                                                         min_samples_split=2,\n",
       "                                                         min_weight_fraction_leaf=0.0,\n",
       "                                                         presort='deprecated',\n",
       "                                                         random_state=None,\n",
       "                                                         splitter='best'),\n",
       "                   learning_rate=0.060000000000000005, n_estimators=500,\n",
       "                   random_state=None)"
      ]
     },
     "execution_count": 1085,
     "metadata": {},
     "output_type": "execute_result"
    }
   ],
   "source": [
    "param_grid = {'learning_rate': np.arange(0.01, 1, 0.05),\n",
    "              'algorithm': ['SAMME.R']}\n",
    "grid = GridSearchCV(AdaBoostClassifier(DecisionTreeClassifier(max_depth=2), n_estimators=150), param_grid, scoring='accuracy', cv=5)\n",
    "res = grid.fit(X_train, y_train)\n",
    "\n",
    "best = res.best_estimator_\n",
    "best"
   ]
  },
  {
   "cell_type": "code",
   "execution_count": 1086,
   "id": "92284753",
   "metadata": {},
   "outputs": [
    {
     "name": "stdout",
     "output_type": "stream",
     "text": [
      "Score: 86.5 %\n"
     ]
    }
   ],
   "source": [
    "y_pred = best.predict(X_test)\n",
    "print(f'Score: {round(accuracy_score(y_test, y_pred)*100,2)} %')"
   ]
  },
  {
   "cell_type": "markdown",
   "id": "58ba21bb",
   "metadata": {},
   "source": [
    "## XGBoost"
   ]
  },
  {
   "cell_type": "code",
   "execution_count": 39,
   "id": "9af8b3fe",
   "metadata": {
    "scrolled": true
   },
   "outputs": [
    {
     "name": "stdout",
     "output_type": "stream",
     "text": [
      "[21:43:31] WARNING: ../src/learner.cc:1095: Starting in XGBoost 1.3.0, the default evaluation metric used with the objective 'binary:logistic' was changed from 'error' to 'logloss'. Explicitly set eval_metric if you'd like to restore the old behavior.\n"
     ]
    },
    {
     "data": {
      "text/plain": [
       "XGBClassifier(base_score=0.5, booster='gbtree', colsample_bylevel=1,\n",
       "              colsample_bynode=1, colsample_bytree=1, gamma=0, gpu_id=-1,\n",
       "              importance_type='gain', interaction_constraints='',\n",
       "              learning_rate=0.300000012, max_delta_step=0, max_depth=6,\n",
       "              min_child_weight=1, missing=nan, monotone_constraints='()',\n",
       "              n_estimators=100, n_jobs=4, num_parallel_tree=1,\n",
       "              objective='binary:logistic', random_state=0, reg_alpha=0,\n",
       "              reg_lambda=1, scale_pos_weight=1, subsample=1,\n",
       "              tree_method='exact', use_label_encoder=True,\n",
       "              validate_parameters=1, verbosity=None)"
      ]
     },
     "execution_count": 39,
     "metadata": {},
     "output_type": "execute_result"
    }
   ],
   "source": [
    "import xgboost as xgb\n",
    "xg_clf = xgb.XGBClassifier(base_score=0.5, booster='gbtree', colsample_bylevel=1,\n",
    "                              colsample_bynode=1, colsample_bytree=1, gamma=0, gpu_id=-1,\n",
    "                              importance_type='gain', interaction_constraints='',\n",
    "                              learning_rate=0.3, max_delta_step=0, max_depth=6,\n",
    "                              min_child_weight=1,\n",
    "                              n_estimators=100, n_jobs=4, num_parallel_tree=1, random_state=0,\n",
    "                              reg_alpha=0, reg_lambda=1, scale_pos_weight=1, subsample=1,\n",
    "                              tree_method='exact', validate_parameters=1, verbosity=None)\n",
    "\n",
    "xg_clf.fit(X_train, y_train)"
   ]
  },
  {
   "cell_type": "code",
   "execution_count": 40,
   "id": "93d413dc",
   "metadata": {},
   "outputs": [
    {
     "name": "stdout",
     "output_type": "stream",
     "text": [
      "Score: 85.43333333333332 %\n"
     ]
    }
   ],
   "source": [
    "y_pred = xg_clf.predict(X_test)\n",
    "print(f'Score: {accuracy_score(y_test, y_pred)*100} %')"
   ]
  },
  {
   "cell_type": "code",
   "execution_count": 47,
   "id": "28c8e251",
   "metadata": {},
   "outputs": [
    {
     "name": "stderr",
     "output_type": "stream",
     "text": [
      "/home/biagio/.pyenv/versions/3.8.6/envs/lewagon/lib/python3.8/site-packages/xgboost/sklearn.py:1146: UserWarning: The use of label encoder in XGBClassifier is deprecated and will be removed in a future release. To remove this warning, do the following: 1) Pass option use_label_encoder=False when constructing XGBClassifier object; and 2) Encode your labels (y) as integers starting with 0, i.e. 0, 1, 2, ..., [num_class - 1].\n",
      "  warnings.warn(label_encoder_deprecation_msg, UserWarning)\n"
     ]
    },
    {
     "name": "stdout",
     "output_type": "stream",
     "text": [
      "[22:07:09] WARNING: ../src/learner.cc:1095: Starting in XGBoost 1.3.0, the default evaluation metric used with the objective 'binary:logistic' was changed from 'error' to 'logloss'. Explicitly set eval_metric if you'd like to restore the old behavior.\n"
     ]
    },
    {
     "data": {
      "text/plain": [
       "XGBClassifier(base_score=0.5, booster='gbtree', colsample_bylevel=1,\n",
       "              colsample_bynode=1, colsample_bytree=0.5, gamma=0, gpu_id=-1,\n",
       "              importance_type='gain', interaction_constraints='',\n",
       "              learning_rate=0.1, max_delta_step=0, max_depth=4,\n",
       "              min_child_weight=1, missing=nan, monotone_constraints='()',\n",
       "              n_estimators=100, n_jobs=8, num_parallel_tree=1,\n",
       "              objective='binary:logistic', random_state=0, reg_alpha=0,\n",
       "              reg_lambda=1, scale_pos_weight=1, subsample=0.8,\n",
       "              tree_method='exact', use_label_encoder=True,\n",
       "              validate_parameters=1, verbosity=None)"
      ]
     },
     "execution_count": 47,
     "metadata": {},
     "output_type": "execute_result"
    }
   ],
   "source": [
    "param_grid = {\n",
    "    \"max_depth\": [2, 3, 4, 5],\n",
    "    \"learning_rate\": [0.1, 0.01, 0.05],\n",
    "    \"subsample\": [0.8],\n",
    "    \"colsample_bytree\": [0.5],\n",
    "}\n",
    "\n",
    "# Init classifier\n",
    "xgb_cl = xgb.XGBClassifier(objective=\"binary:logistic\")\n",
    "\n",
    "# Init Grid Search\n",
    "grid_cv = GridSearchCV(xgb_cl, param_grid, n_jobs=-1, cv=3, scoring=\"accuracy\")\n",
    "\n",
    "# Fit\n",
    "res = grid_cv.fit(X_train, y_train)\n",
    "best = res.best_estimator_\n",
    "best"
   ]
  },
  {
   "cell_type": "code",
   "execution_count": 48,
   "id": "3866c5b4",
   "metadata": {},
   "outputs": [
    {
     "name": "stdout",
     "output_type": "stream",
     "text": [
      "Score: 86.83 %\n"
     ]
    },
    {
     "name": "stderr",
     "output_type": "stream",
     "text": [
      "/home/biagio/.pyenv/versions/3.8.6/envs/lewagon/lib/python3.8/site-packages/xgboost/data.py:112: UserWarning: Use subset (sliced data) of np.ndarray is not recommended because it will generate extra copies and increase memory consumption\n",
      "  warnings.warn(\n"
     ]
    }
   ],
   "source": [
    "y_pred = best.predict(X_test)\n",
    "print(f'Score: {round(accuracy_score(y_test, y_pred)*100,2)} %')"
   ]
  },
  {
   "cell_type": "markdown",
   "id": "871ce64e",
   "metadata": {},
   "source": [
    "## NN?"
   ]
  }
 ],
 "metadata": {
  "kernelspec": {
   "display_name": "Python 3",
   "language": "python",
   "name": "python3"
  },
  "language_info": {
   "codemirror_mode": {
    "name": "ipython",
    "version": 3
   },
   "file_extension": ".py",
   "mimetype": "text/x-python",
   "name": "python",
   "nbconvert_exporter": "python",
   "pygments_lexer": "ipython3",
   "version": "3.8.6"
  },
  "toc": {
   "base_numbering": 1,
   "nav_menu": {},
   "number_sections": true,
   "sideBar": true,
   "skip_h1_title": false,
   "title_cell": "Table of Contents",
   "title_sidebar": "Contents",
   "toc_cell": false,
   "toc_position": {},
   "toc_section_display": true,
   "toc_window_display": false
  }
 },
 "nbformat": 4,
 "nbformat_minor": 5
}
