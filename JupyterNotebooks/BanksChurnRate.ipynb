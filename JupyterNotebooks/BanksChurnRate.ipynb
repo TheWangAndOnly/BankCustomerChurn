{
 "cells": [
  {
   "cell_type": "markdown",
   "id": "a8c1068a",
   "metadata": {},
   "source": [
    "# Bank Customer Churn "
   ]
  },
  {
   "cell_type": "markdown",
   "id": "80d91061",
   "metadata": {},
   "source": [
    "## Get  Data "
   ]
  },
  {
   "cell_type": "code",
   "execution_count": 1,
   "id": "c7e6abcb",
   "metadata": {},
   "outputs": [],
   "source": [
    "from pathlib import Path\n",
    "import matplotlib.pyplot as plt\n",
    "import pandas as pd\n",
    "import seaborn as sns \n",
    "import numpy as np\n",
    "import warnings\n",
    "warnings.filterwarnings(\"ignore\")"
   ]
  },
  {
   "cell_type": "code",
   "execution_count": 2,
   "id": "04d3616d",
   "metadata": {},
   "outputs": [],
   "source": [
    "data_folder = Path(\"/Users/weiyiwang/code/TheWangAndOnly/BankCustomerChurn/Data\")\n",
    "\n",
    "file_to_open = data_folder / \"ChurnModeling.csv\"\n",
    "\n",
    "f = open(file_to_open)\n",
    "\n",
    "df = pd.read_csv(f)"
   ]
  },
  {
   "cell_type": "code",
   "execution_count": 3,
   "id": "9d5efa0d",
   "metadata": {
    "scrolled": true
   },
   "outputs": [
    {
     "name": "stdout",
     "output_type": "stream",
     "text": [
      "<class 'pandas.core.frame.DataFrame'>\n",
      "RangeIndex: 10000 entries, 0 to 9999\n",
      "Data columns (total 14 columns):\n",
      " #   Column           Non-Null Count  Dtype  \n",
      "---  ------           --------------  -----  \n",
      " 0   RowNumber        10000 non-null  int64  \n",
      " 1   CustomerId       10000 non-null  int64  \n",
      " 2   Surname          10000 non-null  object \n",
      " 3   CreditScore      10000 non-null  int64  \n",
      " 4   Geography        10000 non-null  object \n",
      " 5   Gender           10000 non-null  object \n",
      " 6   Age              10000 non-null  int64  \n",
      " 7   Tenure           10000 non-null  int64  \n",
      " 8   Balance          10000 non-null  float64\n",
      " 9   NumOfProducts    10000 non-null  int64  \n",
      " 10  HasCrCard        10000 non-null  int64  \n",
      " 11  IsActiveMember   10000 non-null  int64  \n",
      " 12  EstimatedSalary  10000 non-null  float64\n",
      " 13  Exited           10000 non-null  int64  \n",
      "dtypes: float64(2), int64(9), object(3)\n",
      "memory usage: 1.1+ MB\n"
     ]
    }
   ],
   "source": [
    "df.info()"
   ]
  },
  {
   "cell_type": "code",
   "execution_count": 4,
   "id": "274dda51",
   "metadata": {},
   "outputs": [],
   "source": [
    "#corr = df.corr()\n",
    "#corr"
   ]
  },
  {
   "cell_type": "code",
   "execution_count": 5,
   "id": "309f7d2f",
   "metadata": {
    "scrolled": true
   },
   "outputs": [],
   "source": [
    "#sns.histplot(df['Exited'])"
   ]
  },
  {
   "cell_type": "markdown",
   "id": "92ecb6bb",
   "metadata": {},
   "source": [
    "## Preprocessing Data"
   ]
  },
  {
   "cell_type": "markdown",
   "id": "9e4cdb04",
   "metadata": {},
   "source": [
    "### Encoding Objects (Geography & Gender)"
   ]
  },
  {
   "cell_type": "code",
   "execution_count": 6,
   "id": "608589c1",
   "metadata": {},
   "outputs": [],
   "source": [
    "from sklearn.preprocessing import OneHotEncoder\n",
    "from sklearn.preprocessing import LabelEncoder\n",
    "from sklearn.linear_model import LogisticRegression\n",
    "from sklearn.preprocessing import RobustScaler\n",
    "from sklearn.model_selection import train_test_split\n",
    "from sklearn.model_selection import cross_val_score\n",
    "scaler = RobustScaler()\n",
    "log_reg = LogisticRegression(max_iter = 1000)\n",
    "label = LabelEncoder()\n",
    "ohe = OneHotEncoder(sparse=False)"
   ]
  },
  {
   "cell_type": "code",
   "execution_count": 7,
   "id": "9c65e76a",
   "metadata": {},
   "outputs": [],
   "source": [
    "ohe.fit(df[['Gender']])\n",
    "gender_encoded = ohe.transform(df[['Gender']])\n",
    "df['Female'], df['Male'] = gender_encoded.T"
   ]
  },
  {
   "cell_type": "code",
   "execution_count": 8,
   "id": "15859642",
   "metadata": {},
   "outputs": [],
   "source": [
    "ohe.fit(df[['Geography']])\n",
    "geography_encoded = ohe.transform(df[['Geography']])\n",
    "df[\"France\"],df[\"Germany\"],df['Spain'] = geography_encoded.T"
   ]
  },
  {
   "cell_type": "code",
   "execution_count": 9,
   "id": "eac8a677",
   "metadata": {},
   "outputs": [],
   "source": [
    "df = df.drop(['Geography', 'RowNumber', 'CustomerId', 'Surname', 'Gender'], axis = 1)"
   ]
  },
  {
   "cell_type": "code",
   "execution_count": 10,
   "id": "948d3c2e",
   "metadata": {},
   "outputs": [
    {
     "data": {
      "text/plain": [
       "CreditScore       -0.027094\n",
       "Age                0.285323\n",
       "Tenure            -0.014001\n",
       "Balance            0.118533\n",
       "NumOfProducts     -0.047820\n",
       "HasCrCard         -0.007138\n",
       "IsActiveMember    -0.156128\n",
       "EstimatedSalary    0.012097\n",
       "Female             0.106512\n",
       "Male              -0.106512\n",
       "France            -0.104955\n",
       "Germany            0.173488\n",
       "Spain             -0.052667\n",
       "Name: Exited, dtype: float64"
      ]
     },
     "execution_count": 10,
     "metadata": {},
     "output_type": "execute_result"
    }
   ],
   "source": [
    "df.corr()['Exited'].drop('Exited')"
   ]
  },
  {
   "cell_type": "code",
   "execution_count": 11,
   "id": "888c918a",
   "metadata": {},
   "outputs": [],
   "source": [
    "y = df['Exited']\n",
    "X = df.drop('Exited', axis = 1)"
   ]
  },
  {
   "cell_type": "code",
   "execution_count": 12,
   "id": "a09993a8",
   "metadata": {},
   "outputs": [
    {
     "data": {
      "text/plain": [
       "<AxesSubplot:>"
      ]
     },
     "execution_count": 12,
     "metadata": {},
     "output_type": "execute_result"
    },
    {
     "data": {
      "image/png": "[encoded data removed]",
      "text/plain": [
       "<Figure size 720x720 with 1 Axes>"
      ]
     },
     "metadata": {
      "needs_background": "light"
     },
     "output_type": "display_data"
    }
   ],
   "source": [
    "plt.figure(figsize=(10,10))\n",
    "X.boxplot()"
   ]
  },
  {
   "cell_type": "markdown",
   "id": "ccb6ecc2",
   "metadata": {},
   "source": [
    "### Split data in train and test sets"
   ]
  },
  {
   "cell_type": "code",
   "execution_count": 13,
   "id": "7bd3766b",
   "metadata": {},
   "outputs": [],
   "source": [
    "X_train, X_test, y_train, y_test = train_test_split(X,y,test_size = .2, random_state = 42)"
   ]
  },
  {
   "cell_type": "code",
   "execution_count": 16,
   "id": "b651fc23",
   "metadata": {},
   "outputs": [],
   "source": [
    "X_train_scaled = scaler.fit_transform(X_train)"
   ]
  },
  {
   "cell_type": "code",
   "execution_count": 21,
   "id": "572ced8e",
   "metadata": {},
   "outputs": [],
   "source": [
    "model = log_reg.fit(X_train_scaled,y_train)"
   ]
  },
  {
   "cell_type": "code",
   "execution_count": 43,
   "id": "76321cf4",
   "metadata": {},
   "outputs": [
    {
     "data": {
      "text/plain": [
       "0.7963"
      ]
     },
     "execution_count": 43,
     "metadata": {},
     "output_type": "execute_result"
    }
   ],
   "source": [
    "1 - df['Exited'].sum()/len(df['Exited'])"
   ]
  },
  {
   "cell_type": "code",
   "execution_count": 25,
   "id": "a5380be8",
   "metadata": {},
   "outputs": [
    {
     "data": {
      "text/plain": [
       "0.8088749999999999"
      ]
     },
     "execution_count": 25,
     "metadata": {},
     "output_type": "execute_result"
    }
   ],
   "source": [
    "scores = cross_val_score(log_reg, X_train_scaled, y_train, cv =10)\n",
    "scores.mean()"
   ]
  },
  {
   "cell_type": "code",
   "execution_count": 36,
   "id": "456f58f9",
   "metadata": {},
   "outputs": [
    {
     "data": {
      "text/plain": [
       "array([1, 1, 1, ..., 1, 1, 1])"
      ]
     },
     "execution_count": 36,
     "metadata": {},
     "output_type": "execute_result"
    }
   ],
   "source": [
    "log_reg.predict(X_test)"
   ]
  }
 ],
 "metadata": {
  "kernelspec": {
   "display_name": "Python 3",
   "language": "python",
   "name": "python3"
  },
  "language_info": {
   "codemirror_mode": {
    "name": "ipython",
    "version": 3
   },
   "file_extension": ".py",
   "mimetype": "text/x-python",
   "name": "python",
   "nbconvert_exporter": "python",
   "pygments_lexer": "ipython3",
   "version": "3.8.6"
  },
  "toc": {
   "base_numbering": 1,
   "nav_menu": {},
   "number_sections": true,
   "sideBar": true,
   "skip_h1_title": false,
   "title_cell": "Table of Contents",
   "title_sidebar": "Contents",
   "toc_cell": false,
   "toc_position": {},
   "toc_section_display": true,
   "toc_window_display": false
  }
 },
 "nbformat": 4,
 "nbformat_minor": 5
}
